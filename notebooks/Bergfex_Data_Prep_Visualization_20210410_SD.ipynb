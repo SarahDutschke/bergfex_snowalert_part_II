{
 "cells": [
  {
   "cell_type": "markdown",
   "metadata": {},
   "source": [
    "## Bergfex Webscraping\n",
    "<b> Data Preparation</b> \n",
    "\n",
    "In previous notebooks (part I notebooks 1-3), we scraped the activity data and the weather data (i.e. snow levels). \n",
    "\n",
    "Most visualizations we can directly build in Tableau without further data manipulation.\n",
    "For one plot, we like to take advantage of the true meaning of ascent, i.e. the gain in height meters during most mountain activities. To compare the relative steepness of the different activities we will build a line chart where the slope will represent the steepness. Therefore, we need to create an additional data frame."
   ]
  },
  {
   "cell_type": "markdown",
   "metadata": {},
   "source": [
    "### Imports"
   ]
  },
  {
   "cell_type": "code",
   "execution_count": 1,
   "metadata": {},
   "outputs": [],
   "source": [
    "import pandas as pd"
   ]
  },
  {
   "cell_type": "markdown",
   "metadata": {},
   "source": [
    "# Import prepared files"
   ]
  },
  {
   "cell_type": "code",
   "execution_count": 2,
   "metadata": {},
   "outputs": [],
   "source": [
    "# change the file_path to your path if necessary\n",
    "filepath = '../data/'\n",
    "\n",
    "# importing activity data\n",
    "activities = pd.read_csv(filepath + 'activities_all_gpx.csv')"
   ]
  },
  {
   "cell_type": "markdown",
   "metadata": {},
   "source": [
    "# Data manipulation\n",
    "This additional DF should have the starting altitude and the maximum altitude in the same column (previously in separate columns 'min' and 'max'). \n",
    "Another trick to tackle the handling of hours/min in Tableau is to convert the duration to a decimal number, which is still easily understood (i.e. from '01:30' to '1.5')."
   ]
  },
  {
   "cell_type": "markdown",
   "metadata": {},
   "source": [
    "## Create new DF"
   ]
  },
  {
   "cell_type": "code",
   "execution_count": 3,
   "metadata": {},
   "outputs": [
    {
     "data": {
      "text/plain": [
       "((7592, 4),\n",
       "        ID  altitude_in_m min_max   time\n",
       " 0  129549          392.0     min  00:01\n",
       " 1  120900          349.0     min  00:01\n",
       " 2  129607          391.0     min  00:01\n",
       " 3  280170          348.0     min  00:01\n",
       " 4  129555          427.0     min  00:01)"
      ]
     },
     "execution_count": 3,
     "metadata": {},
     "output_type": "execute_result"
    }
   ],
   "source": [
    "min_gpx = activities.loc[:,['ID','min']]                  # create DF for starting altitude\n",
    "min_gpx.columns = ['ID','altitude_in_m']                  # rename columns \n",
    "min_gpx['min_max'] = 'min'                                # create new column with \"min\" as value\n",
    "min_gpx['time'] = '00:01'                                 # create new column with \"00:01\" as start time value\n",
    "max_gpx = activities.loc[:,['ID','max','time']]           # create the same for the max time\n",
    "max_gpx.columns = ['ID','altitude_in_m','time']\n",
    "max_gpx['min_max'] = 'max'\n",
    "new_gpx = pd.concat([min_gpx, max_gpx], axis = 0)         # append DF under each other\n",
    "new_gpx.shape, new_gpx.head()"
   ]
  },
  {
   "cell_type": "markdown",
   "metadata": {},
   "source": [
    "## Adjust the duration to a decimal time"
   ]
  },
  {
   "cell_type": "markdown",
   "metadata": {},
   "source": [
    "First, we will adjust the duration to a decimal number.\n",
    "\n",
    "Second, we need to adjust the duration it takes to reach the peak. We will use an assumption: Normally the descent of an activity takes less time than the ascent, let's say 2/3 of the total duration we need for the ascent. Of course, this is subjective and it also depends on the specific activity. The descent on a mountain bike or on skis could easily be much quicker than 1/3 of the duration. For simplicity, however, we keep the same assumption across all activity types."
   ]
  },
  {
   "cell_type": "code",
   "execution_count": 4,
   "metadata": {},
   "outputs": [
    {
     "data": {
      "text/html": [
       "<div>\n",
       "<style scoped>\n",
       "    .dataframe tbody tr th:only-of-type {\n",
       "        vertical-align: middle;\n",
       "    }\n",
       "\n",
       "    .dataframe tbody tr th {\n",
       "        vertical-align: top;\n",
       "    }\n",
       "\n",
       "    .dataframe thead th {\n",
       "        text-align: right;\n",
       "    }\n",
       "</style>\n",
       "<table border=\"1\" class=\"dataframe\">\n",
       "  <thead>\n",
       "    <tr style=\"text-align: right;\">\n",
       "      <th></th>\n",
       "      <th>ID</th>\n",
       "      <th>altitude_in_m</th>\n",
       "      <th>min_max</th>\n",
       "      <th>time</th>\n",
       "      <th>time_decimals</th>\n",
       "      <th>time_peak</th>\n",
       "    </tr>\n",
       "  </thead>\n",
       "  <tbody>\n",
       "    <tr>\n",
       "      <th>3791</th>\n",
       "      <td>347324</td>\n",
       "      <td>589.0</td>\n",
       "      <td>max</td>\n",
       "      <td>01:31</td>\n",
       "      <td>1.5</td>\n",
       "      <td>1.0</td>\n",
       "    </tr>\n",
       "    <tr>\n",
       "      <th>3792</th>\n",
       "      <td>860559</td>\n",
       "      <td>824.0</td>\n",
       "      <td>max</td>\n",
       "      <td>02:26</td>\n",
       "      <td>2.4</td>\n",
       "      <td>1.6</td>\n",
       "    </tr>\n",
       "    <tr>\n",
       "      <th>3793</th>\n",
       "      <td>886876</td>\n",
       "      <td>392.0</td>\n",
       "      <td>max</td>\n",
       "      <td>00:01</td>\n",
       "      <td>0.0</td>\n",
       "      <td>0.0</td>\n",
       "    </tr>\n",
       "    <tr>\n",
       "      <th>3794</th>\n",
       "      <td>569711</td>\n",
       "      <td>440.0</td>\n",
       "      <td>max</td>\n",
       "      <td>04:07</td>\n",
       "      <td>4.1</td>\n",
       "      <td>2.7</td>\n",
       "    </tr>\n",
       "    <tr>\n",
       "      <th>3795</th>\n",
       "      <td>500644</td>\n",
       "      <td>596.0</td>\n",
       "      <td>max</td>\n",
       "      <td>00:50</td>\n",
       "      <td>0.8</td>\n",
       "      <td>0.5</td>\n",
       "    </tr>\n",
       "  </tbody>\n",
       "</table>\n",
       "</div>"
      ],
      "text/plain": [
       "          ID  altitude_in_m min_max   time  time_decimals  time_peak\n",
       "3791  347324          589.0     max  01:31            1.5        1.0\n",
       "3792  860559          824.0     max  02:26            2.4        1.6\n",
       "3793  886876          392.0     max  00:01            0.0        0.0\n",
       "3794  569711          440.0     max  04:07            4.1        2.7\n",
       "3795  500644          596.0     max  00:50            0.8        0.5"
      ]
     },
     "execution_count": 4,
     "metadata": {},
     "output_type": "execute_result"
    }
   ],
   "source": [
    "new_gpx['time'] = pd.Series(new_gpx['time']).str.replace(\"-\", '00:01') # harmonize time formatting\n",
    "new_gpx1 = new_gpx['time'].str.split(':',expand = True)   # split time into 2 columns\n",
    "new_gpx1[0] = pd.to_numeric(new_gpx1[0], errors='coerce') # convert to int\n",
    "new_gpx1[1] = pd.to_numeric(new_gpx1[1], errors='coerce') # convert to int\n",
    "new_gpx1['sec'] = round(new_gpx1[1]/60,1)                 # convert seconds into decimals\n",
    "new_gpx1['time'] = new_gpx1[0] + new_gpx1['sec']          # add minutes and seconds again\n",
    "new_gpx['time_decimals'] = new_gpx1['time']               # add as new column\n",
    "new_gpx['time_peak'] = new_gpx['time_decimals'] * 2/3     # Assumption: ascent takes 2/3 of the total time\n",
    "new_gpx['time_peak'] = round(new_gpx['time_peak'],1)\n",
    "#new_gpx = new_gpx.drop(columns = ['time'])                # drop old column\n",
    "new_gpx.tail()"
   ]
  },
  {
   "cell_type": "markdown",
   "metadata": {},
   "source": [
    "# Write CSV file"
   ]
  },
  {
   "cell_type": "code",
   "execution_count": 5,
   "metadata": {},
   "outputs": [],
   "source": [
    "new_gpx.to_csv(filepath + 'rearranged_all.csv', index = False)"
   ]
  }
 ],
 "metadata": {
  "kernelspec": {
   "display_name": "Python 3",
   "language": "python",
   "name": "python3"
  },
  "language_info": {
   "codemirror_mode": {
    "name": "ipython",
    "version": 3
   },
   "file_extension": ".py",
   "mimetype": "text/x-python",
   "name": "python",
   "nbconvert_exporter": "python",
   "pygments_lexer": "ipython3",
   "version": "3.8.5"
  },
  "toc": {
   "base_numbering": 1,
   "nav_menu": {},
   "number_sections": true,
   "sideBar": true,
   "skip_h1_title": false,
   "title_cell": "Table of Contents",
   "title_sidebar": "Contents",
   "toc_cell": false,
   "toc_position": {},
   "toc_section_display": true,
   "toc_window_display": true
  }
 },
 "nbformat": 4,
 "nbformat_minor": 4
}
